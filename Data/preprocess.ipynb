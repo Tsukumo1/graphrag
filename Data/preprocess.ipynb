{
 "cells": [
  {
   "cell_type": "code",
   "execution_count": 1,
   "id": "cb114045",
   "metadata": {},
   "outputs": [],
   "source": [
    "import json\n",
    "import re\n",
    "\n",
    "def preprocess_line(line: str) -> str:\n",
    "    parts = line.strip().split(\"\\t\")\n",
    "    if len(parts) != 4:\n",
    "        return \"\"  # 非法行丢弃\n",
    "    \n",
    "    subj, relation, obj, date = parts\n",
    "    \n",
    "    # 下划线 → 空格\n",
    "    subj = subj.replace(\"_\", \" \")\n",
    "    obj = obj.replace(\"_\", \" \")\n",
    "    \n",
    "    # relation 处理：去括号、下划线\n",
    "    relation = relation.replace(\"_\", \" \")\n",
    "    relation = re.sub(r\"\\(.*?\\)\", \"\", relation).strip()\n",
    "    \n",
    "    # 拼成句子\n",
    "    sentence = f\"{subj} {relation.lower()} with {obj} on {date}.\"\n",
    "    return re.sub(\" +\", \" \", sentence)  # 去多余空格\n"
   ]
  },
  {
   "cell_type": "code",
   "execution_count": null,
   "metadata": {},
   "outputs": [],
   "source": [
    "input_file = \"/home/share/data/dataset/MultiTQ/train.txt\"\n",
    "output_file = \"/home/share/data/dataset/MultiTQ/train.json\"\n",
    "    \n",
    "results = []\n",
    "with open(input_file, \"r\", encoding=\"utf-8\") as f:\n",
    "    for line in f:\n",
    "        processed = preprocess_line(line)\n",
    "        if processed:  # 非空才加入\n",
    "            results.append({\n",
    "                \"title\": \"Temporal Event of Political, Diplomatic, and Social Interactions\",\n",
    "                \"context\": processed\n",
    "            })\n",
    "    \n",
    "with open(output_file, \"w\", encoding=\"utf-8\") as f:\n",
    "    json.dump(results, f, ensure_ascii=False, indent=2)\n",
    "    \n",
    "print(f\"保存完成，共 {len(results)} 条数据 -> {output_file}\")"
   ]
  }
 ],
 "metadata": {
  "kernelspec": {
   "display_name": "graphRAG",
   "language": "python",
   "name": "python3"
  },
  "language_info": {
   "codemirror_mode": {
    "name": "ipython",
    "version": 3
   },
   "file_extension": ".py",
   "mimetype": "text/x-python",
   "name": "python",
   "nbconvert_exporter": "python",
   "pygments_lexer": "ipython3",
   "version": "3.10.16"
  }
 },
 "nbformat": 4,
 "nbformat_minor": 5
}
